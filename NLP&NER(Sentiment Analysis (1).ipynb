{
 "cells": [
  {
   "cell_type": "code",
   "execution_count": 43,
   "id": "46a453b1",
   "metadata": {},
   "outputs": [
    {
     "data": {
      "text/plain": [
       "'Victims of witchcraft accusations face alienation or exclusion from their communities. Exclusions can be social, physical, economic or psychological.\\n\\nSome villages in northern Ghana have become known as places that provide refuge to people banished from their communities. These villages were not created for this purpose. Rather, they are already existing communities that have chosen to provide such refuge.\\n\\nBanishment happens when someone accused of witchcraft is no longer welcomed in their com'"
      ]
     },
     "execution_count": 43,
     "metadata": {},
     "output_type": "execute_result"
    }
   ],
   "source": [
    "rawData=open(r\"C:\\Users\\nanaa\\OneDrive\\Desktop\\Victims of witchcraft accusations f.txt\").read()\n",
    "\n",
    "rawData[0:500]"
   ]
  },
  {
   "cell_type": "code",
   "execution_count": 1,
   "id": "05174b1b",
   "metadata": {},
   "outputs": [
    {
     "name": "stdout",
     "output_type": "stream",
     "text": [
      "Requirement already satisfied: textblob in c:\\users\\nanaa\\anaconda3\\lib\\site-packages (0.17.1)\n",
      "Requirement already satisfied: nltk>=3.1 in c:\\users\\nanaa\\anaconda3\\lib\\site-packages (from textblob) (3.8.1)\n",
      "Requirement already satisfied: click in c:\\users\\nanaa\\anaconda3\\lib\\site-packages (from nltk>=3.1->textblob) (8.0.4)\n",
      "Requirement already satisfied: joblib in c:\\users\\nanaa\\anaconda3\\lib\\site-packages (from nltk>=3.1->textblob) (1.2.0)\n",
      "Requirement already satisfied: regex>=2021.8.3 in c:\\users\\nanaa\\anaconda3\\lib\\site-packages (from nltk>=3.1->textblob) (2022.7.9)\n",
      "Requirement already satisfied: tqdm in c:\\users\\nanaa\\anaconda3\\lib\\site-packages (from nltk>=3.1->textblob) (4.65.0)\n",
      "Requirement already satisfied: colorama in c:\\users\\nanaa\\anaconda3\\lib\\site-packages (from click->nltk>=3.1->textblob) (0.4.6)\n"
     ]
    }
   ],
   "source": [
    "!pip install textblob\n"
   ]
  },
  {
   "cell_type": "code",
   "execution_count": 2,
   "id": "5abd7d39",
   "metadata": {},
   "outputs": [],
   "source": [
    "from textblob import TextBlob"
   ]
  },
  {
   "cell_type": "code",
   "execution_count": 3,
   "id": "b0672c39",
   "metadata": {},
   "outputs": [
    {
     "name": "stdout",
     "output_type": "stream",
     "text": [
      "Sentiment(polarity=-0.0257936507936508, subjectivity=0.3481481481481481)\n"
     ]
    }
   ],
   "source": [
    "s = '''\n",
    "Victims of witchcraft accusations face alienation or exclusion from their communities. Exclusions can be social, physical, economic or psychological.\n",
    "\n",
    "Some villages in northern Ghana have become known as places that provide refuge to people banished from their communities. These villages were not created for this purpose. Rather, they are already existing communities that have chosen to provide such refuge.\n",
    "\n",
    "Banishment happens when someone accused of witchcraft is no longer welcomed in their community. They are asked to leave and never return. Not heeding such advice comes with consequences including violence, abuse, social exclusion and murder.\n",
    "\n",
    "Sometimes people relocate to a village that’s offering them safety after they’ve been forced to leave their homes following direct threats. In some instances people move when they hear rumours that they risk being accused of witchcraft.\n",
    "\n",
    "What people who had been banished told me\n",
    "The purpose of my research inquiry was to gain insights into how individuals accused of witchcraft speak about themselves and their circumstances.\n",
    "\n",
    "The experiences of those accused varied. As one told me:\n",
    "\n",
    "They finally threatened that they were going to do their juju, and if I had any knowledge about the child’s sickness, I was going to die within four days. I told them they should go ahead; I was willing to die if I were the one responsible for the child’s sickness. After the ritual, I didn’t die. However, they said I could no longer stay with them in the community.\n",
    "\n",
    "Another gave this account:\n",
    "\n",
    "After the death of my husband, the relatives accused me of witchcraft. My in-laws said I killed my husband, but I don’t know anything about it. He fell sick and died afterwards. How can I kill my husband? I was lucky I wasn’t killed. There were lots of chaos, and some of the people suggested that I should be killed. Others disagreed and suggested that I should be brought to Gnani-Tindang … It’s my husband’s people who brought me here.\n",
    "'''\n",
    "tb = TextBlob(s)\n",
    "print(tb.sentiment)"
   ]
  },
  {
   "cell_type": "code",
   "execution_count": 5,
   "id": "1f4bb8e9",
   "metadata": {},
   "outputs": [
    {
     "name": "stdout",
     "output_type": "stream",
     "text": [
      "23\n",
      "Victims of witchcraft accusations face alienation or exclusion from their communities.\n",
      "Others disagreed and suggested that I should be brought to Gnani-Tindang … It’s my husband’s people who brought me here.\n"
     ]
    }
   ],
   "source": [
    "from textblob import TextBlob\n",
    "\n",
    "with open(r\"C:\\Users\\nanaa\\OneDrive\\Desktop\\Victims of witchcraft accusations f.txt\", encoding='utf-8') as infile:\n",
    "    content = infile.read()\n",
    "\n",
    "tb = TextBlob(content)\n",
    "sentences = tb.sentences\n",
    "\n",
    "print(len(sentences))\n",
    "print(sentences[0])\n",
    "print(sentences[-1])\n"
   ]
  },
  {
   "cell_type": "code",
   "execution_count": 6,
   "id": "31a53cbc",
   "metadata": {},
   "outputs": [
    {
     "name": "stdout",
     "output_type": "stream",
     "text": [
      "-0.7142857142857143\n",
      "He fell sick and died afterwards.\n",
      "\n"
     ]
    }
   ],
   "source": [
    "for s in sentences:\n",
    "    tb = TextBlob(str(s))\n",
    "    pol = tb.sentiment.polarity\n",
    "    if abs(pol) > 0.4:\n",
    "        print(pol)\n",
    "        print(s)\n",
    "        print()"
   ]
  },
  {
   "cell_type": "code",
   "execution_count": 7,
   "id": "d74e52fc",
   "metadata": {},
   "outputs": [],
   "source": [
    "sub_list = []\n",
    "pol_list = []\n",
    "\n",
    "for s in sentences:\n",
    "    tb = TextBlob(str(s))\n",
    "    sub_list.append(tb.sentiment.subjectivity)\n",
    "    pol_list.append(tb.sentiment.polarity)"
   ]
  },
  {
   "cell_type": "code",
   "execution_count": 9,
   "id": "49a5aa20",
   "metadata": {},
   "outputs": [
    {
     "data": {
      "image/png": "[encoded data removed]",
      "text/plain": [
       "<Figure size 640x480 with 1 Axes>"
      ]
     },
     "metadata": {},
     "output_type": "display_data"
    }
   ],
   "source": [
    "\n",
    "import matplotlib.pyplot as plt\n",
    "\n",
    "plt.hist(sub_list, bins=10) \n",
    "\n",
    "plt.xlabel('subjectivity score')\n",
    "plt.ylabel('sentence count')\n",
    "plt.grid(True)\n",
    "plt.savefig('subjectivity.pdf')\n",
    "plt.show()"
   ]
  },
  {
   "cell_type": "code",
   "execution_count": 10,
   "id": "ec82f3c2",
   "metadata": {},
   "outputs": [
    {
     "data": {
      "image/png": "[encoded data removed]",
      "text/plain": [
       "<Figure size 640x480 with 1 Axes>"
      ]
     },
     "metadata": {},
     "output_type": "display_data"
    }
   ],
   "source": [
    "plt.hist(pol_list, bins=10) \n",
    "\n",
    "plt.xlabel('polarity score')\n",
    "plt.ylabel('sentence count')\n",
    "plt.grid(True)\n",
    "plt.savefig('polarity.pdf')\n",
    "plt.show()"
   ]
  },
  {
   "cell_type": "markdown",
   "id": "5f6f6eca",
   "metadata": {},
   "source": [
    "Tokenization"
   ]
  },
  {
   "cell_type": "code",
   "execution_count": 11,
   "id": "df8ab4a8",
   "metadata": {},
   "outputs": [
    {
     "name": "stdout",
     "output_type": "stream",
     "text": [
      "1976 Victims of witchcraft accusations face alienation or exclusion from their communities. Exclusions ca\n"
     ]
    }
   ],
   "source": [
    "import nltk\n",
    "from nltk.tokenize import sent_tokenize, word_tokenize\n",
    "from pprint import pprint\n",
    "\n",
    "with open(r\"C:\\Users\\nanaa\\OneDrive\\Desktop\\Victims of witchcraft accusations f.txt\",encoding = 'utf-8') as infile:\n",
    "    article = infile.read()\n",
    "print(len(article), article[0:100])"
   ]
  },
  {
   "cell_type": "code",
   "execution_count": 12,
   "id": "807aa16c",
   "metadata": {},
   "outputs": [
    {
     "name": "stdout",
     "output_type": "stream",
     "text": [
      "('Victims of witchcraft accusations face alienation or exclusion from their '\n",
      " 'communities.')\n"
     ]
    }
   ],
   "source": [
    "sentences = nltk.sent_tokenize(article)\n",
    "pprint(sentences[0])"
   ]
  },
  {
   "cell_type": "code",
   "execution_count": 13,
   "id": "c721cf05",
   "metadata": {},
   "outputs": [
    {
     "name": "stdout",
     "output_type": "stream",
     "text": [
      "['Victims', 'of', 'witchcraft', 'accusations', 'face', 'alienation', 'or', 'exclusion', 'from', 'their', 'communities', '.']\n"
     ]
    }
   ],
   "source": [
    "token_sentences = [word_tokenize(sent) for sent in sentences]\n",
    "print(token_sentences[0])"
   ]
  },
  {
   "cell_type": "code",
   "execution_count": 14,
   "id": "fa15e0f5",
   "metadata": {},
   "outputs": [
    {
     "name": "stdout",
     "output_type": "stream",
     "text": [
      "[('Victims', 'NNS'),\n",
      " ('of', 'IN'),\n",
      " ('witchcraft', 'NN'),\n",
      " ('accusations', 'NNS'),\n",
      " ('face', 'VBP'),\n",
      " ('alienation', 'NN'),\n",
      " ('or', 'CC'),\n",
      " ('exclusion', 'NN'),\n",
      " ('from', 'IN'),\n",
      " ('their', 'PRP$'),\n",
      " ('communities', 'NNS'),\n",
      " ('.', '.')]\n"
     ]
    }
   ],
   "source": [
    "pos_sentences = [nltk.pos_tag(sent) for sent in token_sentences] \n",
    "pprint(pos_sentences[0])"
   ]
  },
  {
   "cell_type": "code",
   "execution_count": 16,
   "id": "2ec7af41",
   "metadata": {},
   "outputs": [
    {
     "name": "stderr",
     "output_type": "stream",
     "text": [
      "[nltk_data] Downloading package tagsets to\n",
      "[nltk_data]     C:\\Users\\nanaa\\AppData\\Roaming\\nltk_data...\n",
      "[nltk_data]   Package tagsets is already up-to-date!\n"
     ]
    },
    {
     "data": {
      "text/plain": [
       "True"
      ]
     },
     "execution_count": 16,
     "metadata": {},
     "output_type": "execute_result"
    }
   ],
   "source": [
    "nltk.download('tagsets')"
   ]
  },
  {
   "cell_type": "code",
   "execution_count": 17,
   "id": "d7ccc441",
   "metadata": {},
   "outputs": [
    {
     "name": "stdout",
     "output_type": "stream",
     "text": [
      "DT: determiner\n",
      "    all an another any both del each either every half la many much nary\n",
      "    neither no some such that the them these this those\n"
     ]
    }
   ],
   "source": [
    "nltk.help.upenn_tagset('DT')"
   ]
  },
  {
   "cell_type": "code",
   "execution_count": 18,
   "id": "415c5f61",
   "metadata": {},
   "outputs": [
    {
     "name": "stdout",
     "output_type": "stream",
     "text": [
      "NNP: noun, proper, singular\n",
      "    Motown Venneboerger Czestochwa Ranzer Conchita Trumplane Christos\n",
      "    Oceanside Escobar Kreisler Sawyer Cougar Yvette Ervin ODI Darryl CTCA\n",
      "    Shannon A.K.C. Meltex Liverpool ...\n"
     ]
    }
   ],
   "source": [
    "nltk.help.upenn_tagset('NNP')"
   ]
  },
  {
   "cell_type": "markdown",
   "id": "43781e95",
   "metadata": {},
   "source": [
    "NER WITH SPACY"
   ]
  },
  {
   "cell_type": "code",
   "execution_count": 1,
   "id": "7ecae586",
   "metadata": {},
   "outputs": [],
   "source": [
    "import spacy"
   ]
  },
  {
   "cell_type": "code",
   "execution_count": 3,
   "id": "92a64adf",
   "metadata": {},
   "outputs": [],
   "source": [
    "nlp=spacy.load(\"en_core_web_sm\")"
   ]
  },
  {
   "cell_type": "code",
   "execution_count": 4,
   "id": "7e950c76",
   "metadata": {},
   "outputs": [],
   "source": [
    "%matplotlib inline\n",
    "\n",
    "import matplotlib.pyplot as plt\n",
    "import spacy\n",
    "from collections import defaultdict\n",
    "from pprint import pprint"
   ]
  },
  {
   "cell_type": "code",
   "execution_count": 5,
   "id": "3eb301bc",
   "metadata": {},
   "outputs": [
    {
     "name": "stdout",
     "output_type": "stream",
     "text": [
      "<spacy.lang.en.English object at 0x0000018467EAC4D0>\n"
     ]
    }
   ],
   "source": [
    "\n",
    "nlp = spacy.load('en_core_web_sm', exclude=[\"tagger\",\"parser\",\"matcher\"])\n",
    "\n",
    "print(nlp)"
   ]
  },
  {
   "cell_type": "code",
   "execution_count": 6,
   "id": "6ab455b2",
   "metadata": {},
   "outputs": [],
   "source": [
    "with open(r\"C:\\Users\\nanaa\\OneDrive\\Desktop\\Victims of witchcraft accusations f.txt\",encoding = 'utf-8') as infile:\n",
    "    article = infile.read()"
   ]
  },
  {
   "cell_type": "code",
   "execution_count": 7,
   "id": "f062f4ec",
   "metadata": {},
   "outputs": [
    {
     "name": "stderr",
     "output_type": "stream",
     "text": [
      "C:\\Users\\nanaa\\anaconda3\\Lib\\site-packages\\spacy\\pipeline\\lemmatizer.py:211: UserWarning: [W108] The rule-based lemmatizer did not find POS annotation for one or more tokens. Check that your pipeline includes components that assign token.pos, typically 'tagger'+'attribute_ruler' or 'morphologizer'.\n",
      "  warnings.warn(Warnings.W108)\n"
     ]
    }
   ],
   "source": [
    "doc = nlp(article)"
   ]
  },
  {
   "cell_type": "code",
   "execution_count": 8,
   "id": "976366f0",
   "metadata": {},
   "outputs": [
    {
     "name": "stdout",
     "output_type": "stream",
     "text": [
      "Victims of witchcraft accusations face alienation or exclusion from their communities. Exclusions can be social, physical, economic or psychological.\n",
      "\n",
      "Some villages in northern Ghana have become known as places that provide refuge to people banished from their communities. These villages were not created for this purpose. Rather, they are already existing communities that have chosen to provide such refuge.\n",
      "\n",
      "Banishment happens when someone accused of witchcraft is no longer welcomed in their community. They are asked to leave and never return. Not heeding such advice comes with consequences\n"
     ]
    }
   ],
   "source": [
    "print(doc[0:100]) "
   ]
  },
  {
   "cell_type": "code",
   "execution_count": 9,
   "id": "464a963e",
   "metadata": {},
   "outputs": [
    {
     "data": {
      "text/plain": [
       "(Ghana, Banishment, four days, Gnani-Tindang)"
      ]
     },
     "execution_count": 9,
     "metadata": {},
     "output_type": "execute_result"
    }
   ],
   "source": [
    "doc.ents"
   ]
  },
  {
   "cell_type": "code",
   "execution_count": 23,
   "id": "28e7f176",
   "metadata": {},
   "outputs": [
    {
     "name": "stdout",
     "output_type": "stream",
     "text": [
      "[('Victims', 'NNS'), ('of', 'IN'), ('witchcraft', 'NN'), ('accusations', 'NNS'), ('face', 'VBP'), ('alienation', 'NN'), ('or', 'CC'), ('exclusion', 'NN'), ('from', 'IN'), ('their', 'PRP$'), ('communities', 'NNS'), ('Exclusions', 'NNS'), ('can', 'MD'), ('be', 'VB'), ('social', 'JJ'), ('physical', 'JJ'), ('economic', 'JJ'), ('or', 'CC'), ('psychological', 'JJ'), ('Some', 'DT'), ('villages', 'NNS'), ('in', 'IN'), ('northern', 'JJ'), ('Ghana', 'NNP'), ('have', 'VBP'), ('become', 'VBN'), ('known', 'VBN'), ('as', 'IN'), ('places', 'NNS'), ('that', 'WDT'), ('provide', 'VBP'), ('refuge', 'VB'), ('to', 'TO'), ('people', 'NNS'), ('banished', 'VBN'), ('from', 'IN'), ('their', 'PRP$'), ('communities', 'NNS'), ('These', 'DT'), ('villages', 'NNS'), ('were', 'VBD'), ('not', 'RB'), ('created', 'VBN'), ('for', 'IN'), ('this', 'DT'), ('purpose', 'NN'), ('Rather', 'RB'), ('they', 'PRP'), ('are', 'VBP'), ('already', 'RB'), ('existing', 'VBG'), ('communities', 'NNS'), ('that', 'WDT'), ('have', 'VBP'), ('chosen', 'VBN'), ('to', 'TO'), ('provide', 'VB'), ('such', 'JJ'), ('refuge', 'NN'), ('Banishment', 'NN'), ('happens', 'VBZ'), ('when', 'WRB'), ('someone', 'NN'), ('accused', 'VBD'), ('of', 'IN'), ('witchcraft', 'NN'), ('is', 'VBZ'), ('no', 'RB'), ('longer', 'RB'), ('welcomed', 'VBN'), ('in', 'IN'), ('their', 'PRP$'), ('community', 'NN'), ('They', 'PRP'), ('are', 'VBP'), ('asked', 'VBN'), ('to', 'TO'), ('leave', 'VB'), ('and', 'CC'), ('never', 'RB'), ('return', 'NN'), ('Not', 'RB'), ('heeding', 'VBG'), ('such', 'JJ'), ('advice', 'NN'), ('comes', 'VBZ'), ('with', 'IN'), ('consequences', 'NNS')]\n",
      "Sentiment(polarity=0.03888888888888889, subjectivity=0.2515873015873016)\n"
     ]
    }
   ],
   "source": [
    "from textblob import TextBlob\n",
    "\n",
    "text = '''Victims of witchcraft accusations face alienation or exclusion from their communities. Exclusions can be social, physical, economic or psychological.\n",
    "\n",
    "Some villages in northern Ghana have become known as places that provide refuge to people banished from their communities. These villages were not created for this purpose. Rather, they are already existing communities that have chosen to provide such refuge.\n",
    "\n",
    "Banishment happens when someone accused of witchcraft is no longer welcomed in their community. They are asked to leave and never return. Not heeding such advice comes with consequences\n",
    "'''\n",
    "blob = TextBlob(text)\n",
    "\n",
    "#  Part-of-speech tagging\n",
    "print(blob.tags)\n",
    "\n",
    "#  Sentiment analysis\n",
    "print(blob.sentiment)\n"
   ]
  },
  {
   "cell_type": "code",
   "execution_count": 15,
   "id": "ef1a1d18",
   "metadata": {},
   "outputs": [
    {
     "name": "stdout",
     "output_type": "stream",
     "text": [
      "label GPE \ttext Ghana\n",
      "label PERSON \ttext Banishment\n",
      "label DATE \ttext four days\n",
      "label GPE \ttext Gnani-Tindang\n"
     ]
    }
   ],
   "source": [
    "# create an empty defaultdict\n",
    "ner_categories = defaultdict(int)\n",
    "\n",
    "#Found entities and their labels\n",
    "for ent in doc.ents:\n",
    "    print('label', ent.label_, '\\ttext', ent.text)\n",
    "    ner_categories[ent.label_] += 1"
   ]
  },
  {
   "cell_type": "code",
   "execution_count": null,
   "id": "4bbcb838",
   "metadata": {},
   "outputs": [],
   "source": [
    "Alternative Using Displacy"
   ]
  },
  {
   "cell_type": "code",
   "execution_count": 19,
   "id": "f69171c9",
   "metadata": {},
   "outputs": [
    {
     "name": "stdout",
     "output_type": "stream",
     "text": [
      "label | GPE | Countries, cities, states\n",
      "label | PERSON | People, including fictional\n",
      "label | DATE | Absolute or relative dates or periods\n",
      "label | GPE | Countries, cities, states\n"
     ]
    }
   ],
   "source": [
    "for ent in doc.ents:\n",
    "    print('label', \"|\", ent.label_, \"|\", spacy.explain(ent.label_))\n",
    "  \n"
   ]
  },
  {
   "cell_type": "code",
   "execution_count": 20,
   "id": "e31d5664",
   "metadata": {},
   "outputs": [
    {
     "data": {
      "text/html": [
       "<span class=\"tex2jax_ignore\"><div class=\"entities\" style=\"line-height: 2.5; direction: ltr\">Victims of witchcraft accusations face alienation or exclusion from their communities. Exclusions can be social, physical, economic or psychological.<br><br>Some villages in northern \n",
       "<mark class=\"entity\" style=\"background: #feca74; padding: 0.45em 0.6em; margin: 0 0.25em; line-height: 1; border-radius: 0.35em;\">\n",
       "    Ghana\n",
       "    <span style=\"font-size: 0.8em; font-weight: bold; line-height: 1; border-radius: 0.35em; vertical-align: middle; margin-left: 0.5rem\">GPE</span>\n",
       "</mark>\n",
       " have become known as places that provide refuge to people banished from their communities. These villages were not created for this purpose. Rather, they are already existing communities that have chosen to provide such refuge.<br><br>\n",
       "<mark class=\"entity\" style=\"background: #aa9cfc; padding: 0.45em 0.6em; margin: 0 0.25em; line-height: 1; border-radius: 0.35em;\">\n",
       "    Banishment\n",
       "    <span style=\"font-size: 0.8em; font-weight: bold; line-height: 1; border-radius: 0.35em; vertical-align: middle; margin-left: 0.5rem\">PERSON</span>\n",
       "</mark>\n",
       " happens when someone accused of witchcraft is no longer welcomed in their community. They are asked to leave and never return. Not heeding such advice comes with consequences including violence, abuse, social exclusion and murder.<br><br>Sometimes people relocate to a village that’s offering them safety after they’ve been forced to leave their homes following direct threats. In some instances people move when they hear rumours that they risk being accused of witchcraft.<br><br>What people who had been banished told me<br>The purpose of my research inquiry was to gain insights into how individuals accused of witchcraft speak about themselves and their circumstances.<br><br>The experiences of those accused varied. As one told me:<br><br>They finally threatened that they were going to do their juju, and if I had any knowledge about the child’s sickness, I was going to die within \n",
       "<mark class=\"entity\" style=\"background: #bfe1d9; padding: 0.45em 0.6em; margin: 0 0.25em; line-height: 1; border-radius: 0.35em;\">\n",
       "    four days\n",
       "    <span style=\"font-size: 0.8em; font-weight: bold; line-height: 1; border-radius: 0.35em; vertical-align: middle; margin-left: 0.5rem\">DATE</span>\n",
       "</mark>\n",
       ". I told them they should go ahead; I was willing to die if I were the one responsible for the child’s sickness. After the ritual, I didn’t die. However, they said I could no longer stay with them in the community.<br><br>Another gave this account:<br><br>After the death of my husband, the relatives accused me of witchcraft. My in-laws said I killed my husband, but I don’t know anything about it. He fell sick and died afterwards. How can I kill my husband? I was lucky I wasn’t killed. There were lots of chaos, and some of the people suggested that I should be killed. Others disagreed and suggested that I should be brought to \n",
       "<mark class=\"entity\" style=\"background: #feca74; padding: 0.45em 0.6em; margin: 0 0.25em; line-height: 1; border-radius: 0.35em;\">\n",
       "    Gnani-Tindang\n",
       "    <span style=\"font-size: 0.8em; font-weight: bold; line-height: 1; border-radius: 0.35em; vertical-align: middle; margin-left: 0.5rem\">GPE</span>\n",
       "</mark>\n",
       " … It’s my husband’s people who brought me here.</div></span>"
      ],
      "text/plain": [
       "<IPython.core.display.HTML object>"
      ]
     },
     "metadata": {},
     "output_type": "display_data"
    }
   ],
   "source": [
    "from spacy import displacy\n",
    "displacy.render(doc,style=\"ent\")"
   ]
  },
  {
   "cell_type": "code",
   "execution_count": 11,
   "id": "ccc52eea",
   "metadata": {},
   "outputs": [
    {
     "name": "stdout",
     "output_type": "stream",
     "text": [
      "defaultdict(<class 'int'>, {'GPE': 2, 'PERSON': 1, 'DATE': 1})\n"
     ]
    }
   ],
   "source": [
    "pprint(ner_categories)"
   ]
  },
  {
   "cell_type": "markdown",
   "id": "e21e6e97",
   "metadata": {},
   "source": [
    "Visualisation"
   ]
  },
  {
   "cell_type": "code",
   "execution_count": 21,
   "id": "1e7d55ce",
   "metadata": {},
   "outputs": [
    {
     "data": {
      "image/png": "[encoded data removed]",
      "text/plain": [
       "<Figure size 1000x800 with 1 Axes>"
      ]
     },
     "metadata": {},
     "output_type": "display_data"
    }
   ],
   "source": [
    "# Create  list from the dictionary keys for the chart labels: labels\n",
    "labels = list(ner_categories.keys())\n",
    "\n",
    "# Create a list of the values: values\n",
    "values = [ner_categories.get(l) for l in labels]\n",
    "\n",
    "\n",
    "# Create the pie chart\n",
    "plt.figure(figsize=(10, 8))\n",
    "plt.pie(values, \n",
    "        labels=labels, \n",
    "        autopct='%1.1f%%', \n",
    "        startangle=140)\n",
    "\n",
    "# Display the chart\n",
    "plt.show()"
   ]
  },
  {
   "cell_type": "code",
   "execution_count": null,
   "id": "6f2362a8",
   "metadata": {},
   "outputs": [],
   "source": []
  }
 ],
 "metadata": {
  "kernelspec": {
   "display_name": "Python 3 (ipykernel)",
   "language": "python",
   "name": "python3"
  },
  "language_info": {
   "codemirror_mode": {
    "name": "ipython",
    "version": 3
   },
   "file_extension": ".py",
   "mimetype": "text/x-python",
   "name": "python",
   "nbconvert_exporter": "python",
   "pygments_lexer": "ipython3",
   "version": "3.11.4"
  }
 },
 "nbformat": 4,
 "nbformat_minor": 5
}
